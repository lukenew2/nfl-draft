{
 "cells": [
  {
   "cell_type": "code",
   "execution_count": 1,
   "metadata": {},
   "outputs": [
    {
     "name": "stderr",
     "output_type": "stream",
     "text": [
      "Using TensorFlow backend.\n"
     ]
    }
   ],
   "source": [
    "import pandas as pd\n",
    "import numpy as np\n",
    "import matplotlib.pyplot as plt\n",
    "import seaborn as sns\n",
    "\n",
    "from sklearn.model_selection import train_test_split\n",
    "from sklearn.metrics import r2_score\n",
    "from sklearn.metrics import mean_absolute_error as mae\n",
    "from sklearn.metrics import mean_squared_error as mse\n",
    "from sklearn.metrics import precision_score, recall_score, precision_recall_curve, f1_score, fbeta_score\n",
    "from sklearn.metrics import roc_auc_score, roc_curve\n",
    "from sklearn.metrics import confusion_matrix, classification_report\n",
    "from sklearn.tree import DecisionTreeClassifier\n",
    "from sklearn.svm import LinearSVC\n",
    "from sklearn.svm import SVC\n",
    "from sklearn.ensemble import RandomForestClassifier\n",
    "from sklearn.linear_model import LogisticRegression\n",
    "from sklearn import preprocessing\n",
    "from imblearn.over_sampling import RandomOverSampler"
   ]
  },
  {
   "cell_type": "code",
   "execution_count": 2,
   "metadata": {},
   "outputs": [],
   "source": [
    "cfb_2016 = pd.read_pickle('cfb_2016.pickle')\n",
    "cfb_2017 = pd.read_pickle('cfb_2017.pickle')\n",
    "cfb_2018 = pd.read_pickle('cfb_2018.pickle')"
   ]
  },
  {
   "cell_type": "code",
   "execution_count": 3,
   "metadata": {},
   "outputs": [],
   "source": [
    "df = pd.concat([cfb_2016, cfb_2017, cfb_2018])"
   ]
  },
  {
   "cell_type": "code",
   "execution_count": 4,
   "metadata": {},
   "outputs": [],
   "source": [
    "df.reset_index(drop=True, inplace=True)"
   ]
  },
  {
   "cell_type": "code",
   "execution_count": 5,
   "metadata": {
    "scrolled": true
   },
   "outputs": [
    {
     "data": {
      "text/plain": [
       "Name            object\n",
       "Pos             object\n",
       "Yr              object\n",
       "Ht              object\n",
       "Wt              object\n",
       "Kickoffs       float64\n",
       "Punts          float64\n",
       "TD             float64\n",
       "FG             float64\n",
       "1XP            float64\n",
       "2XP            float64\n",
       "Points         float64\n",
       "Rush Yards     float64\n",
       "Pass Yards     float64\n",
       "Recv.          float64\n",
       "Int.           float64\n",
       "Solo           float64\n",
       "Sacks          float64\n",
       "Att            float64\n",
       "Comp           float64\n",
       "Passing TD     float64\n",
       "Passing Int    float64\n",
       "Drafted         object\n",
       "dtype: object"
      ]
     },
     "execution_count": 5,
     "metadata": {},
     "output_type": "execute_result"
    }
   ],
   "source": [
    "df.dtypes"
   ]
  },
  {
   "cell_type": "code",
   "execution_count": 6,
   "metadata": {},
   "outputs": [],
   "source": [
    "df = df.loc[(df['Wt'] != '-')]\n",
    "df['Wt'] = pd.to_numeric(df['Wt'])"
   ]
  },
  {
   "cell_type": "code",
   "execution_count": 7,
   "metadata": {},
   "outputs": [],
   "source": [
    "df = df.loc[(df['Ht'] != '-')]\n",
    "df = df.loc[(df['Ht'] != 0)]"
   ]
  },
  {
   "cell_type": "code",
   "execution_count": 8,
   "metadata": {},
   "outputs": [],
   "source": [
    "height_list = []\n",
    "\n",
    "for height in df['Ht']:\n",
    "    \n",
    "    heights = str(height).split('-')\n",
    "    height_list.append(int(heights[0]) * 12 + int(heights[-1]))"
   ]
  },
  {
   "cell_type": "code",
   "execution_count": 9,
   "metadata": {},
   "outputs": [],
   "source": [
    "df.reset_index(drop=True, inplace=True)\n",
    "df['Ht'] = pd.Series(height_list)"
   ]
  },
  {
   "cell_type": "code",
   "execution_count": 10,
   "metadata": {},
   "outputs": [],
   "source": [
    "df = df.loc[(df['Pos'] != '-')]\n",
    "df.reset_index(drop=True, inplace=True)"
   ]
  },
  {
   "cell_type": "code",
   "execution_count": 11,
   "metadata": {
    "scrolled": true
   },
   "outputs": [
    {
     "data": {
      "text/plain": [
       "WR      3072\n",
       "OL      3060\n",
       "LB      2426\n",
       "DB      2099\n",
       "DL      1672\n",
       "RB      1356\n",
       "TE      1280\n",
       "QB      1061\n",
       "S        844\n",
       "DE       843\n",
       "CB       824\n",
       "DT       610\n",
       "K        433\n",
       "P        395\n",
       "LS       380\n",
       "FB       294\n",
       "OLB      234\n",
       "PK       234\n",
       "OT       215\n",
       "OG       182\n",
       "ILB      169\n",
       "TB       109\n",
       "ATH      106\n",
       "SN        85\n",
       "C         81\n",
       "DS        52\n",
       "NT        39\n",
       "FS        27\n",
       "MLB       18\n",
       "WLB       17\n",
       "STUD      16\n",
       "SS        14\n",
       "SLB       12\n",
       "HB        11\n",
       "NG        10\n",
       "BUCK       5\n",
       "ROV        2\n",
       "FL         1\n",
       "SE         1\n",
       "Name: Pos, dtype: int64"
      ]
     },
     "execution_count": 11,
     "metadata": {},
     "output_type": "execute_result"
    }
   ],
   "source": [
    "df['Pos'].value_counts()"
   ]
  },
  {
   "cell_type": "code",
   "execution_count": 12,
   "metadata": {},
   "outputs": [
    {
     "data": {
      "text/plain": [
       "WR     77\n",
       "OL     72\n",
       "DB     71\n",
       "LB     52\n",
       "DL     50\n",
       "RB     49\n",
       "DE     40\n",
       "TE     37\n",
       "CB     34\n",
       "QB     28\n",
       "DT     23\n",
       "S      22\n",
       "OLB    10\n",
       "OT      8\n",
       "ILB     8\n",
       "P       6\n",
       "OG      5\n",
       "FB      5\n",
       "TB      5\n",
       "C       3\n",
       "K       3\n",
       "SS      2\n",
       "HB      2\n",
       "SN      1\n",
       "ATH     1\n",
       "PK      1\n",
       "WLB     1\n",
       "FS      1\n",
       "LS      1\n",
       "SLB     1\n",
       "MLB     1\n",
       "Name: Pos, dtype: int64"
      ]
     },
     "execution_count": 12,
     "metadata": {},
     "output_type": "execute_result"
    }
   ],
   "source": [
    "df.reset_index(drop=True, inplace=True)\n",
    "drafted = df.loc[(df['Drafted']=='Yes')]\n",
    "drafted['Pos'].value_counts()"
   ]
  },
  {
   "cell_type": "code",
   "execution_count": 13,
   "metadata": {},
   "outputs": [],
   "source": [
    "categorized_list = []\n",
    "defensive_zone = ['CB', 'S']\n",
    "defensive_line = ['DB', 'DE', 'DL', 'DT',] \n",
    "linebackers = ['LB', 'OLB', 'ILB']\n",
    "receivers = ['WR', 'TE']\n",
    "running_back = ['RB']\n",
    "qb = ['QB']\n",
    "offensive_lineman = ['OL', 'OT']\n",
    "\n",
    "for position in df['Pos']:\n",
    "    \n",
    "    if position in defensive_line:\n",
    "        categorized_list.append('Defense')\n",
    "    elif position in receivers:\n",
    "        categorized_list.append('Receiver')\n",
    "    elif position in defensive_zone:\n",
    "        categorized_list.append('Defensive Zone')\n",
    "    elif position in qb:\n",
    "        categorized_list.append('Quarterback')\n",
    "    elif position in running_back:\n",
    "        categorized_list.append('Running Back')\n",
    "    elif position in linebackers:\n",
    "        categorized_list.append('linebackers')\n",
    "    elif position in offensive_lineman:\n",
    "        categorized_list.append('Offensive Lineman')\n",
    "    else:\n",
    "        categorized_list.append('Other')"
   ]
  },
  {
   "cell_type": "code",
   "execution_count": 14,
   "metadata": {},
   "outputs": [],
   "source": [
    "df['Category'] = pd.Series(categorized_list)"
   ]
  },
  {
   "cell_type": "code",
   "execution_count": 16,
   "metadata": {},
   "outputs": [
    {
     "data": {
      "text/html": [
       "<div>\n",
       "<style scoped>\n",
       "    .dataframe tbody tr th:only-of-type {\n",
       "        vertical-align: middle;\n",
       "    }\n",
       "\n",
       "    .dataframe tbody tr th {\n",
       "        vertical-align: top;\n",
       "    }\n",
       "\n",
       "    .dataframe thead th {\n",
       "        text-align: right;\n",
       "    }\n",
       "</style>\n",
       "<table border=\"1\" class=\"dataframe\">\n",
       "  <thead>\n",
       "    <tr style=\"text-align: right;\">\n",
       "      <th></th>\n",
       "      <th>Name</th>\n",
       "      <th>Pos</th>\n",
       "      <th>Yr</th>\n",
       "      <th>Ht</th>\n",
       "      <th>Wt</th>\n",
       "      <th>Kickoffs</th>\n",
       "      <th>Punts</th>\n",
       "      <th>TD</th>\n",
       "      <th>FG</th>\n",
       "      <th>1XP</th>\n",
       "      <th>...</th>\n",
       "      <th>Recv.</th>\n",
       "      <th>Int.</th>\n",
       "      <th>Solo</th>\n",
       "      <th>Sacks</th>\n",
       "      <th>Att</th>\n",
       "      <th>Comp</th>\n",
       "      <th>Passing TD</th>\n",
       "      <th>Passing Int</th>\n",
       "      <th>Drafted</th>\n",
       "      <th>Category</th>\n",
       "    </tr>\n",
       "  </thead>\n",
       "  <tbody>\n",
       "    <tr>\n",
       "      <td>1</td>\n",
       "      <td>Jaleel Awini</td>\n",
       "      <td>WR</td>\n",
       "      <td>SR</td>\n",
       "      <td>74</td>\n",
       "      <td>215.0</td>\n",
       "      <td>0.0</td>\n",
       "      <td>0.0</td>\n",
       "      <td>0.0</td>\n",
       "      <td>0.0</td>\n",
       "      <td>0.0</td>\n",
       "      <td>...</td>\n",
       "      <td>0.0</td>\n",
       "      <td>0.0</td>\n",
       "      <td>2.0</td>\n",
       "      <td>0.0</td>\n",
       "      <td>0.0</td>\n",
       "      <td>0.0</td>\n",
       "      <td>0.0</td>\n",
       "      <td>0.0</td>\n",
       "      <td>No</td>\n",
       "      <td>Receiver</td>\n",
       "    </tr>\n",
       "    <tr>\n",
       "      <td>2</td>\n",
       "      <td>Chidobe Awuzie</td>\n",
       "      <td>DB</td>\n",
       "      <td>SR</td>\n",
       "      <td>72</td>\n",
       "      <td>205.0</td>\n",
       "      <td>0.0</td>\n",
       "      <td>0.0</td>\n",
       "      <td>0.0</td>\n",
       "      <td>0.0</td>\n",
       "      <td>0.0</td>\n",
       "      <td>...</td>\n",
       "      <td>0.0</td>\n",
       "      <td>1.0</td>\n",
       "      <td>53.0</td>\n",
       "      <td>4.0</td>\n",
       "      <td>0.0</td>\n",
       "      <td>0.0</td>\n",
       "      <td>0.0</td>\n",
       "      <td>0.0</td>\n",
       "      <td>Yes</td>\n",
       "      <td>Defense</td>\n",
       "    </tr>\n",
       "    <tr>\n",
       "      <td>3</td>\n",
       "      <td>David Bagby</td>\n",
       "      <td>WR</td>\n",
       "      <td>SR</td>\n",
       "      <td>72</td>\n",
       "      <td>180.0</td>\n",
       "      <td>0.0</td>\n",
       "      <td>0.0</td>\n",
       "      <td>0.0</td>\n",
       "      <td>0.0</td>\n",
       "      <td>0.0</td>\n",
       "      <td>...</td>\n",
       "      <td>0.0</td>\n",
       "      <td>0.0</td>\n",
       "      <td>0.0</td>\n",
       "      <td>0.0</td>\n",
       "      <td>0.0</td>\n",
       "      <td>0.0</td>\n",
       "      <td>0.0</td>\n",
       "      <td>0.0</td>\n",
       "      <td>No</td>\n",
       "      <td>Receiver</td>\n",
       "    </tr>\n",
       "    <tr>\n",
       "      <td>5</td>\n",
       "      <td>Mo Bandi</td>\n",
       "      <td>OL</td>\n",
       "      <td>FR</td>\n",
       "      <td>77</td>\n",
       "      <td>270.0</td>\n",
       "      <td>0.0</td>\n",
       "      <td>0.0</td>\n",
       "      <td>0.0</td>\n",
       "      <td>0.0</td>\n",
       "      <td>0.0</td>\n",
       "      <td>...</td>\n",
       "      <td>0.0</td>\n",
       "      <td>0.0</td>\n",
       "      <td>0.0</td>\n",
       "      <td>0.0</td>\n",
       "      <td>0.0</td>\n",
       "      <td>0.0</td>\n",
       "      <td>0.0</td>\n",
       "      <td>0.0</td>\n",
       "      <td>No</td>\n",
       "      <td>Offensive Lineman</td>\n",
       "    </tr>\n",
       "    <tr>\n",
       "      <td>6</td>\n",
       "      <td>Sam Bennion</td>\n",
       "      <td>OLB</td>\n",
       "      <td>FR</td>\n",
       "      <td>77</td>\n",
       "      <td>230.0</td>\n",
       "      <td>0.0</td>\n",
       "      <td>0.0</td>\n",
       "      <td>0.0</td>\n",
       "      <td>0.0</td>\n",
       "      <td>0.0</td>\n",
       "      <td>...</td>\n",
       "      <td>0.0</td>\n",
       "      <td>0.0</td>\n",
       "      <td>0.0</td>\n",
       "      <td>0.0</td>\n",
       "      <td>0.0</td>\n",
       "      <td>0.0</td>\n",
       "      <td>0.0</td>\n",
       "      <td>0.0</td>\n",
       "      <td>No</td>\n",
       "      <td>linebackers</td>\n",
       "    </tr>\n",
       "    <tr>\n",
       "      <td>...</td>\n",
       "      <td>...</td>\n",
       "      <td>...</td>\n",
       "      <td>...</td>\n",
       "      <td>...</td>\n",
       "      <td>...</td>\n",
       "      <td>...</td>\n",
       "      <td>...</td>\n",
       "      <td>...</td>\n",
       "      <td>...</td>\n",
       "      <td>...</td>\n",
       "      <td>...</td>\n",
       "      <td>...</td>\n",
       "      <td>...</td>\n",
       "      <td>...</td>\n",
       "      <td>...</td>\n",
       "      <td>...</td>\n",
       "      <td>...</td>\n",
       "      <td>...</td>\n",
       "      <td>...</td>\n",
       "      <td>...</td>\n",
       "      <td>...</td>\n",
       "    </tr>\n",
       "    <tr>\n",
       "      <td>22282</td>\n",
       "      <td>Davon Wells-Ross</td>\n",
       "      <td>DE</td>\n",
       "      <td>FR</td>\n",
       "      <td>77</td>\n",
       "      <td>205.0</td>\n",
       "      <td>0.0</td>\n",
       "      <td>0.0</td>\n",
       "      <td>0.0</td>\n",
       "      <td>0.0</td>\n",
       "      <td>0.0</td>\n",
       "      <td>...</td>\n",
       "      <td>0.0</td>\n",
       "      <td>0.0</td>\n",
       "      <td>0.0</td>\n",
       "      <td>0.0</td>\n",
       "      <td>0.0</td>\n",
       "      <td>0.0</td>\n",
       "      <td>0.0</td>\n",
       "      <td>0.0</td>\n",
       "      <td>No</td>\n",
       "      <td>Defense</td>\n",
       "    </tr>\n",
       "    <tr>\n",
       "      <td>22283</td>\n",
       "      <td>Miles Williams</td>\n",
       "      <td>CB</td>\n",
       "      <td>FR</td>\n",
       "      <td>73</td>\n",
       "      <td>192.0</td>\n",
       "      <td>0.0</td>\n",
       "      <td>0.0</td>\n",
       "      <td>0.0</td>\n",
       "      <td>0.0</td>\n",
       "      <td>0.0</td>\n",
       "      <td>...</td>\n",
       "      <td>0.0</td>\n",
       "      <td>0.0</td>\n",
       "      <td>1.0</td>\n",
       "      <td>0.0</td>\n",
       "      <td>0.0</td>\n",
       "      <td>0.0</td>\n",
       "      <td>0.0</td>\n",
       "      <td>0.0</td>\n",
       "      <td>No</td>\n",
       "      <td>Defensive Zone</td>\n",
       "    </tr>\n",
       "    <tr>\n",
       "      <td>22284</td>\n",
       "      <td>Logan Wilson</td>\n",
       "      <td>LB</td>\n",
       "      <td>JR</td>\n",
       "      <td>74</td>\n",
       "      <td>250.0</td>\n",
       "      <td>0.0</td>\n",
       "      <td>0.0</td>\n",
       "      <td>0.0</td>\n",
       "      <td>0.0</td>\n",
       "      <td>0.0</td>\n",
       "      <td>...</td>\n",
       "      <td>0.0</td>\n",
       "      <td>2.0</td>\n",
       "      <td>57.0</td>\n",
       "      <td>2.0</td>\n",
       "      <td>0.0</td>\n",
       "      <td>0.0</td>\n",
       "      <td>0.0</td>\n",
       "      <td>0.0</td>\n",
       "      <td>No</td>\n",
       "      <td>linebackers</td>\n",
       "    </tr>\n",
       "    <tr>\n",
       "      <td>22286</td>\n",
       "      <td>Ben Wisdorf</td>\n",
       "      <td>LB</td>\n",
       "      <td>JR</td>\n",
       "      <td>73</td>\n",
       "      <td>230.0</td>\n",
       "      <td>0.0</td>\n",
       "      <td>0.0</td>\n",
       "      <td>0.0</td>\n",
       "      <td>0.0</td>\n",
       "      <td>0.0</td>\n",
       "      <td>...</td>\n",
       "      <td>0.0</td>\n",
       "      <td>0.0</td>\n",
       "      <td>5.0</td>\n",
       "      <td>0.0</td>\n",
       "      <td>0.0</td>\n",
       "      <td>0.0</td>\n",
       "      <td>0.0</td>\n",
       "      <td>0.0</td>\n",
       "      <td>No</td>\n",
       "      <td>linebackers</td>\n",
       "    </tr>\n",
       "    <tr>\n",
       "      <td>22287</td>\n",
       "      <td>Trey Woods</td>\n",
       "      <td>RB</td>\n",
       "      <td>SO</td>\n",
       "      <td>75</td>\n",
       "      <td>216.0</td>\n",
       "      <td>0.0</td>\n",
       "      <td>0.0</td>\n",
       "      <td>0.0</td>\n",
       "      <td>0.0</td>\n",
       "      <td>0.0</td>\n",
       "      <td>...</td>\n",
       "      <td>0.0</td>\n",
       "      <td>0.0</td>\n",
       "      <td>1.0</td>\n",
       "      <td>1.0</td>\n",
       "      <td>0.0</td>\n",
       "      <td>0.0</td>\n",
       "      <td>0.0</td>\n",
       "      <td>0.0</td>\n",
       "      <td>No</td>\n",
       "      <td>Running Back</td>\n",
       "    </tr>\n",
       "  </tbody>\n",
       "</table>\n",
       "<p>19765 rows × 24 columns</p>\n",
       "</div>"
      ],
      "text/plain": [
       "                   Name  Pos  Yr  Ht     Wt  Kickoffs  Punts   TD   FG  1XP  \\\n",
       "1          Jaleel Awini   WR  SR  74  215.0       0.0    0.0  0.0  0.0  0.0   \n",
       "2        Chidobe Awuzie   DB  SR  72  205.0       0.0    0.0  0.0  0.0  0.0   \n",
       "3           David Bagby   WR  SR  72  180.0       0.0    0.0  0.0  0.0  0.0   \n",
       "5              Mo Bandi   OL  FR  77  270.0       0.0    0.0  0.0  0.0  0.0   \n",
       "6           Sam Bennion  OLB  FR  77  230.0       0.0    0.0  0.0  0.0  0.0   \n",
       "...                 ...  ...  ..  ..    ...       ...    ...  ...  ...  ...   \n",
       "22282  Davon Wells-Ross   DE  FR  77  205.0       0.0    0.0  0.0  0.0  0.0   \n",
       "22283    Miles Williams   CB  FR  73  192.0       0.0    0.0  0.0  0.0  0.0   \n",
       "22284      Logan Wilson   LB  JR  74  250.0       0.0    0.0  0.0  0.0  0.0   \n",
       "22286       Ben Wisdorf   LB  JR  73  230.0       0.0    0.0  0.0  0.0  0.0   \n",
       "22287        Trey Woods   RB  SO  75  216.0       0.0    0.0  0.0  0.0  0.0   \n",
       "\n",
       "       ...  Recv.  Int.  Solo  Sacks  Att  Comp  Passing TD  Passing Int  \\\n",
       "1      ...    0.0   0.0   2.0    0.0  0.0   0.0         0.0          0.0   \n",
       "2      ...    0.0   1.0  53.0    4.0  0.0   0.0         0.0          0.0   \n",
       "3      ...    0.0   0.0   0.0    0.0  0.0   0.0         0.0          0.0   \n",
       "5      ...    0.0   0.0   0.0    0.0  0.0   0.0         0.0          0.0   \n",
       "6      ...    0.0   0.0   0.0    0.0  0.0   0.0         0.0          0.0   \n",
       "...    ...    ...   ...   ...    ...  ...   ...         ...          ...   \n",
       "22282  ...    0.0   0.0   0.0    0.0  0.0   0.0         0.0          0.0   \n",
       "22283  ...    0.0   0.0   1.0    0.0  0.0   0.0         0.0          0.0   \n",
       "22284  ...    0.0   2.0  57.0    2.0  0.0   0.0         0.0          0.0   \n",
       "22286  ...    0.0   0.0   5.0    0.0  0.0   0.0         0.0          0.0   \n",
       "22287  ...    0.0   0.0   1.0    1.0  0.0   0.0         0.0          0.0   \n",
       "\n",
       "       Drafted           Category  \n",
       "1           No           Receiver  \n",
       "2          Yes            Defense  \n",
       "3           No           Receiver  \n",
       "5           No  Offensive Lineman  \n",
       "6           No        linebackers  \n",
       "...        ...                ...  \n",
       "22282       No            Defense  \n",
       "22283       No     Defensive Zone  \n",
       "22284       No        linebackers  \n",
       "22286       No        linebackers  \n",
       "22287       No       Running Back  \n",
       "\n",
       "[19765 rows x 24 columns]"
      ]
     },
     "execution_count": 16,
     "metadata": {},
     "output_type": "execute_result"
    }
   ],
   "source": [
    "main_data = df.loc[(df['Category'] != 'Other')]\n",
    "main_data"
   ]
  },
  {
   "cell_type": "code",
   "execution_count": 29,
   "metadata": {},
   "outputs": [],
   "source": [
    "!mkdir data"
   ]
  },
  {
   "cell_type": "code",
   "execution_count": 18,
   "metadata": {},
   "outputs": [],
   "source": [
    "main_data.to_pickle('data/df.pickle')"
   ]
  },
  {
   "cell_type": "code",
   "execution_count": 17,
   "metadata": {},
   "outputs": [
    {
     "data": {
      "text/plain": [
       "Defense              5224\n",
       "Receiver             4352\n",
       "Offensive Lineman    3275\n",
       "linebackers          2829\n",
       "Other                2524\n",
       "Defensive Zone       1668\n",
       "Running Back         1356\n",
       "Quarterback          1061\n",
       "Name: Category, dtype: int64"
      ]
     },
     "execution_count": 17,
     "metadata": {},
     "output_type": "execute_result"
    }
   ],
   "source": [
    "df['Category'].value_counts()"
   ]
  },
  {
   "cell_type": "code",
   "execution_count": 24,
   "metadata": {},
   "outputs": [
    {
     "data": {
      "text/html": [
       "<div>\n",
       "<style scoped>\n",
       "    .dataframe tbody tr th:only-of-type {\n",
       "        vertical-align: middle;\n",
       "    }\n",
       "\n",
       "    .dataframe tbody tr th {\n",
       "        vertical-align: top;\n",
       "    }\n",
       "\n",
       "    .dataframe thead th {\n",
       "        text-align: right;\n",
       "    }\n",
       "</style>\n",
       "<table border=\"1\" class=\"dataframe\">\n",
       "  <thead>\n",
       "    <tr style=\"text-align: right;\">\n",
       "      <th></th>\n",
       "      <th>Name</th>\n",
       "      <th>Pos</th>\n",
       "      <th>Yr</th>\n",
       "      <th>Ht</th>\n",
       "      <th>Wt</th>\n",
       "      <th>Kickoffs</th>\n",
       "      <th>Punts</th>\n",
       "      <th>TD</th>\n",
       "      <th>FG</th>\n",
       "      <th>1XP</th>\n",
       "      <th>...</th>\n",
       "      <th>Recv.</th>\n",
       "      <th>Int.</th>\n",
       "      <th>Solo</th>\n",
       "      <th>Sacks</th>\n",
       "      <th>Att</th>\n",
       "      <th>Comp</th>\n",
       "      <th>Passing TD</th>\n",
       "      <th>Passing Int</th>\n",
       "      <th>Drafted</th>\n",
       "      <th>Category</th>\n",
       "    </tr>\n",
       "  </thead>\n",
       "  <tbody>\n",
       "    <tr>\n",
       "      <td>1</td>\n",
       "      <td>Jaleel Awini</td>\n",
       "      <td>WR</td>\n",
       "      <td>SR</td>\n",
       "      <td>74</td>\n",
       "      <td>215.0</td>\n",
       "      <td>0.0</td>\n",
       "      <td>0.0</td>\n",
       "      <td>0.0</td>\n",
       "      <td>0.0</td>\n",
       "      <td>0.0</td>\n",
       "      <td>...</td>\n",
       "      <td>0.0</td>\n",
       "      <td>0.0</td>\n",
       "      <td>2.0</td>\n",
       "      <td>0.0</td>\n",
       "      <td>0.0</td>\n",
       "      <td>0.0</td>\n",
       "      <td>0.0</td>\n",
       "      <td>0.0</td>\n",
       "      <td>No</td>\n",
       "      <td>Offense</td>\n",
       "    </tr>\n",
       "    <tr>\n",
       "      <td>3</td>\n",
       "      <td>David Bagby</td>\n",
       "      <td>WR</td>\n",
       "      <td>SR</td>\n",
       "      <td>72</td>\n",
       "      <td>180.0</td>\n",
       "      <td>0.0</td>\n",
       "      <td>0.0</td>\n",
       "      <td>0.0</td>\n",
       "      <td>0.0</td>\n",
       "      <td>0.0</td>\n",
       "      <td>...</td>\n",
       "      <td>0.0</td>\n",
       "      <td>0.0</td>\n",
       "      <td>0.0</td>\n",
       "      <td>0.0</td>\n",
       "      <td>0.0</td>\n",
       "      <td>0.0</td>\n",
       "      <td>0.0</td>\n",
       "      <td>0.0</td>\n",
       "      <td>No</td>\n",
       "      <td>Offense</td>\n",
       "    </tr>\n",
       "    <tr>\n",
       "      <td>10</td>\n",
       "      <td>Brian Boatman</td>\n",
       "      <td>TE</td>\n",
       "      <td>SR</td>\n",
       "      <td>75</td>\n",
       "      <td>225.0</td>\n",
       "      <td>0.0</td>\n",
       "      <td>0.0</td>\n",
       "      <td>0.0</td>\n",
       "      <td>0.0</td>\n",
       "      <td>0.0</td>\n",
       "      <td>...</td>\n",
       "      <td>0.0</td>\n",
       "      <td>0.0</td>\n",
       "      <td>0.0</td>\n",
       "      <td>0.0</td>\n",
       "      <td>0.0</td>\n",
       "      <td>0.0</td>\n",
       "      <td>0.0</td>\n",
       "      <td>0.0</td>\n",
       "      <td>No</td>\n",
       "      <td>Offense</td>\n",
       "    </tr>\n",
       "    <tr>\n",
       "      <td>11</td>\n",
       "      <td>Bryce Bobo</td>\n",
       "      <td>WR</td>\n",
       "      <td>JR</td>\n",
       "      <td>74</td>\n",
       "      <td>190.0</td>\n",
       "      <td>0.0</td>\n",
       "      <td>0.0</td>\n",
       "      <td>2.0</td>\n",
       "      <td>0.0</td>\n",
       "      <td>0.0</td>\n",
       "      <td>...</td>\n",
       "      <td>548.0</td>\n",
       "      <td>0.0</td>\n",
       "      <td>1.0</td>\n",
       "      <td>0.0</td>\n",
       "      <td>1.0</td>\n",
       "      <td>1.0</td>\n",
       "      <td>1.0</td>\n",
       "      <td>0.0</td>\n",
       "      <td>No</td>\n",
       "      <td>Offense</td>\n",
       "    </tr>\n",
       "    <tr>\n",
       "      <td>12</td>\n",
       "      <td>Chris Bounds</td>\n",
       "      <td>TE</td>\n",
       "      <td>FR</td>\n",
       "      <td>76</td>\n",
       "      <td>245.0</td>\n",
       "      <td>0.0</td>\n",
       "      <td>0.0</td>\n",
       "      <td>0.0</td>\n",
       "      <td>0.0</td>\n",
       "      <td>0.0</td>\n",
       "      <td>...</td>\n",
       "      <td>8.0</td>\n",
       "      <td>0.0</td>\n",
       "      <td>1.0</td>\n",
       "      <td>0.0</td>\n",
       "      <td>0.0</td>\n",
       "      <td>0.0</td>\n",
       "      <td>0.0</td>\n",
       "      <td>0.0</td>\n",
       "      <td>No</td>\n",
       "      <td>Offense</td>\n",
       "    </tr>\n",
       "    <tr>\n",
       "      <td>...</td>\n",
       "      <td>...</td>\n",
       "      <td>...</td>\n",
       "      <td>...</td>\n",
       "      <td>...</td>\n",
       "      <td>...</td>\n",
       "      <td>...</td>\n",
       "      <td>...</td>\n",
       "      <td>...</td>\n",
       "      <td>...</td>\n",
       "      <td>...</td>\n",
       "      <td>...</td>\n",
       "      <td>...</td>\n",
       "      <td>...</td>\n",
       "      <td>...</td>\n",
       "      <td>...</td>\n",
       "      <td>...</td>\n",
       "      <td>...</td>\n",
       "      <td>...</td>\n",
       "      <td>...</td>\n",
       "      <td>...</td>\n",
       "      <td>...</td>\n",
       "    </tr>\n",
       "    <tr>\n",
       "      <td>22265</td>\n",
       "      <td>Jared Scott</td>\n",
       "      <td>WR</td>\n",
       "      <td>SO</td>\n",
       "      <td>78</td>\n",
       "      <td>225.0</td>\n",
       "      <td>0.0</td>\n",
       "      <td>0.0</td>\n",
       "      <td>0.0</td>\n",
       "      <td>0.0</td>\n",
       "      <td>0.0</td>\n",
       "      <td>...</td>\n",
       "      <td>17.0</td>\n",
       "      <td>0.0</td>\n",
       "      <td>0.0</td>\n",
       "      <td>0.0</td>\n",
       "      <td>0.0</td>\n",
       "      <td>0.0</td>\n",
       "      <td>0.0</td>\n",
       "      <td>0.0</td>\n",
       "      <td>No</td>\n",
       "      <td>Offense</td>\n",
       "    </tr>\n",
       "    <tr>\n",
       "      <td>22269</td>\n",
       "      <td>Justyn Stindt</td>\n",
       "      <td>WR</td>\n",
       "      <td>FR</td>\n",
       "      <td>74</td>\n",
       "      <td>192.0</td>\n",
       "      <td>0.0</td>\n",
       "      <td>0.0</td>\n",
       "      <td>0.0</td>\n",
       "      <td>0.0</td>\n",
       "      <td>0.0</td>\n",
       "      <td>...</td>\n",
       "      <td>0.0</td>\n",
       "      <td>0.0</td>\n",
       "      <td>0.0</td>\n",
       "      <td>0.0</td>\n",
       "      <td>0.0</td>\n",
       "      <td>0.0</td>\n",
       "      <td>0.0</td>\n",
       "      <td>0.0</td>\n",
       "      <td>No</td>\n",
       "      <td>Offense</td>\n",
       "    </tr>\n",
       "    <tr>\n",
       "      <td>22273</td>\n",
       "      <td>Xazavian Valladay</td>\n",
       "      <td>RB</td>\n",
       "      <td>FR</td>\n",
       "      <td>72</td>\n",
       "      <td>191.0</td>\n",
       "      <td>0.0</td>\n",
       "      <td>0.0</td>\n",
       "      <td>3.0</td>\n",
       "      <td>0.0</td>\n",
       "      <td>0.0</td>\n",
       "      <td>...</td>\n",
       "      <td>35.0</td>\n",
       "      <td>0.0</td>\n",
       "      <td>2.0</td>\n",
       "      <td>0.0</td>\n",
       "      <td>0.0</td>\n",
       "      <td>0.0</td>\n",
       "      <td>0.0</td>\n",
       "      <td>0.0</td>\n",
       "      <td>No</td>\n",
       "      <td>Offense</td>\n",
       "    </tr>\n",
       "    <tr>\n",
       "      <td>22281</td>\n",
       "      <td>Nate Weinman</td>\n",
       "      <td>TE</td>\n",
       "      <td>FR</td>\n",
       "      <td>79</td>\n",
       "      <td>260.0</td>\n",
       "      <td>0.0</td>\n",
       "      <td>0.0</td>\n",
       "      <td>0.0</td>\n",
       "      <td>0.0</td>\n",
       "      <td>0.0</td>\n",
       "      <td>...</td>\n",
       "      <td>0.0</td>\n",
       "      <td>0.0</td>\n",
       "      <td>0.0</td>\n",
       "      <td>0.0</td>\n",
       "      <td>0.0</td>\n",
       "      <td>0.0</td>\n",
       "      <td>0.0</td>\n",
       "      <td>0.0</td>\n",
       "      <td>No</td>\n",
       "      <td>Offense</td>\n",
       "    </tr>\n",
       "    <tr>\n",
       "      <td>22287</td>\n",
       "      <td>Trey Woods</td>\n",
       "      <td>RB</td>\n",
       "      <td>SO</td>\n",
       "      <td>75</td>\n",
       "      <td>216.0</td>\n",
       "      <td>0.0</td>\n",
       "      <td>0.0</td>\n",
       "      <td>0.0</td>\n",
       "      <td>0.0</td>\n",
       "      <td>0.0</td>\n",
       "      <td>...</td>\n",
       "      <td>0.0</td>\n",
       "      <td>0.0</td>\n",
       "      <td>1.0</td>\n",
       "      <td>1.0</td>\n",
       "      <td>0.0</td>\n",
       "      <td>0.0</td>\n",
       "      <td>0.0</td>\n",
       "      <td>0.0</td>\n",
       "      <td>No</td>\n",
       "      <td>Offense</td>\n",
       "    </tr>\n",
       "  </tbody>\n",
       "</table>\n",
       "<p>5708 rows × 24 columns</p>\n",
       "</div>"
      ],
      "text/plain": [
       "                    Name Pos  Yr  Ht     Wt  Kickoffs  Punts   TD   FG  1XP  \\\n",
       "1           Jaleel Awini  WR  SR  74  215.0       0.0    0.0  0.0  0.0  0.0   \n",
       "3            David Bagby  WR  SR  72  180.0       0.0    0.0  0.0  0.0  0.0   \n",
       "10         Brian Boatman  TE  SR  75  225.0       0.0    0.0  0.0  0.0  0.0   \n",
       "11            Bryce Bobo  WR  JR  74  190.0       0.0    0.0  2.0  0.0  0.0   \n",
       "12          Chris Bounds  TE  FR  76  245.0       0.0    0.0  0.0  0.0  0.0   \n",
       "...                  ...  ..  ..  ..    ...       ...    ...  ...  ...  ...   \n",
       "22265        Jared Scott  WR  SO  78  225.0       0.0    0.0  0.0  0.0  0.0   \n",
       "22269      Justyn Stindt  WR  FR  74  192.0       0.0    0.0  0.0  0.0  0.0   \n",
       "22273  Xazavian Valladay  RB  FR  72  191.0       0.0    0.0  3.0  0.0  0.0   \n",
       "22281       Nate Weinman  TE  FR  79  260.0       0.0    0.0  0.0  0.0  0.0   \n",
       "22287         Trey Woods  RB  SO  75  216.0       0.0    0.0  0.0  0.0  0.0   \n",
       "\n",
       "       ...  Recv.  Int.  Solo  Sacks  Att  Comp  Passing TD  Passing Int  \\\n",
       "1      ...    0.0   0.0   2.0    0.0  0.0   0.0         0.0          0.0   \n",
       "3      ...    0.0   0.0   0.0    0.0  0.0   0.0         0.0          0.0   \n",
       "10     ...    0.0   0.0   0.0    0.0  0.0   0.0         0.0          0.0   \n",
       "11     ...  548.0   0.0   1.0    0.0  1.0   1.0         1.0          0.0   \n",
       "12     ...    8.0   0.0   1.0    0.0  0.0   0.0         0.0          0.0   \n",
       "...    ...    ...   ...   ...    ...  ...   ...         ...          ...   \n",
       "22265  ...   17.0   0.0   0.0    0.0  0.0   0.0         0.0          0.0   \n",
       "22269  ...    0.0   0.0   0.0    0.0  0.0   0.0         0.0          0.0   \n",
       "22273  ...   35.0   0.0   2.0    0.0  0.0   0.0         0.0          0.0   \n",
       "22281  ...    0.0   0.0   0.0    0.0  0.0   0.0         0.0          0.0   \n",
       "22287  ...    0.0   0.0   1.0    1.0  0.0   0.0         0.0          0.0   \n",
       "\n",
       "       Drafted  Category  \n",
       "1           No   Offense  \n",
       "3           No   Offense  \n",
       "10          No   Offense  \n",
       "11          No   Offense  \n",
       "12          No   Offense  \n",
       "...        ...       ...  \n",
       "22265       No   Offense  \n",
       "22269       No   Offense  \n",
       "22273       No   Offense  \n",
       "22281       No   Offense  \n",
       "22287       No   Offense  \n",
       "\n",
       "[5708 rows x 24 columns]"
      ]
     },
     "execution_count": 24,
     "metadata": {},
     "output_type": "execute_result"
    }
   ],
   "source": [
    "df.loc[(df['Category'] == 'Offense')]"
   ]
  },
  {
   "cell_type": "code",
   "execution_count": 16,
   "metadata": {},
   "outputs": [
    {
     "data": {
      "text/plain": [
       "S     844\n",
       "CB    824\n",
       "Name: Pos, dtype: int64"
      ]
     },
     "execution_count": 16,
     "metadata": {},
     "output_type": "execute_result"
    }
   ],
   "source": [
    "zone['Pos'].value_counts()"
   ]
  },
  {
   "cell_type": "code",
   "execution_count": 19,
   "metadata": {},
   "outputs": [],
   "source": [
    "X = zone[['Ht', 'Wt', 'Int.', 'Solo', 'Sacks']]\n",
    "y = zone['Drafted']"
   ]
  },
  {
   "cell_type": "code",
   "execution_count": 20,
   "metadata": {},
   "outputs": [],
   "source": [
    "X_train_val, X_test, y_train_val, y_test = train_test_split(X, y, \n",
    "                                                            test_size=0.2, random_state=42)\n",
    "X_train, X_val, y_train, y_val = train_test_split(X_train_val, y_train_val, \n",
    "                                                            test_size=0.2, random_state=42)"
   ]
  },
  {
   "cell_type": "code",
   "execution_count": 21,
   "metadata": {},
   "outputs": [],
   "source": [
    "ros = RandomOverSampler(random_state=0)\n",
    "X_resampled, y_resampled = ros.fit_sample(X_train,y_train)"
   ]
  },
  {
   "cell_type": "code",
   "execution_count": 22,
   "metadata": {},
   "outputs": [
    {
     "name": "stdout",
     "output_type": "stream",
     "text": [
      "[LibLinear]"
     ]
    },
    {
     "name": "stderr",
     "output_type": "stream",
     "text": [
      "//anaconda3/envs/metis/lib/python3.7/site-packages/sklearn/linear_model/logistic.py:432: FutureWarning: Default solver will be changed to 'lbfgs' in 0.22. Specify a solver to silence this warning.\n",
      "  FutureWarning)\n"
     ]
    },
    {
     "data": {
      "text/plain": [
       "LogisticRegression(C=100000, class_weight=None, dual=False, fit_intercept=True,\n",
       "                   intercept_scaling=1, l1_ratio=None, max_iter=100,\n",
       "                   multi_class='warn', n_jobs=None, penalty='l2',\n",
       "                   random_state=None, solver='warn', tol=0.0001, verbose=True,\n",
       "                   warm_start=False)"
      ]
     },
     "execution_count": 22,
     "metadata": {},
     "output_type": "execute_result"
    }
   ],
   "source": [
    "logistic = LogisticRegression(C=100000, verbose=True)\n",
    "logistic.fit(X_resampled, y_resampled)"
   ]
  },
  {
   "cell_type": "code",
   "execution_count": 23,
   "metadata": {},
   "outputs": [
    {
     "data": {
      "text/plain": [
       "array(['No', 'No', 'No', 'No', 'No', 'Yes', 'No', 'Yes', 'No', 'No', 'No',\n",
       "       'No', 'No', 'No', 'No', 'No', 'No', 'No', 'No', 'No', 'No', 'No',\n",
       "       'No', 'No', 'No', 'No', 'No', 'No', 'No', 'No', 'No', 'No', 'No',\n",
       "       'No', 'No', 'Yes', 'No', 'No', 'No', 'No', 'No', 'No', 'No', 'No',\n",
       "       'Yes', 'No', 'No', 'No', 'No', 'Yes', 'No', 'Yes', 'Yes', 'No',\n",
       "       'No', 'No', 'No', 'No', 'No', 'No', 'No', 'No', 'No', 'No', 'No',\n",
       "       'No', 'No', 'No', 'Yes', 'No', 'No', 'No', 'No', 'No', 'No', 'Yes',\n",
       "       'No', 'No', 'No', 'No', 'No', 'No', 'Yes', 'No', 'Yes', 'No', 'No',\n",
       "       'Yes', 'No', 'Yes', 'No', 'No', 'No', 'Yes', 'Yes', 'No', 'Yes',\n",
       "       'No', 'No', 'Yes', 'Yes', 'Yes', 'No', 'No', 'No', 'No', 'No',\n",
       "       'No', 'No', 'No', 'No', 'No', 'Yes', 'No', 'No', 'Yes', 'No', 'No',\n",
       "       'Yes', 'No', 'No', 'No', 'Yes', 'No', 'Yes', 'No', 'Yes', 'No',\n",
       "       'No', 'No', 'No', 'Yes', 'No', 'No', 'No', 'No', 'No', 'No', 'No',\n",
       "       'No', 'No', 'No', 'No', 'Yes', 'No', 'No', 'No', 'No', 'No', 'No',\n",
       "       'No', 'No', 'No', 'No', 'No', 'No', 'No', 'Yes', 'No', 'No', 'No',\n",
       "       'No', 'No', 'Yes', 'No', 'No', 'No', 'Yes', 'No', 'No', 'No', 'No',\n",
       "       'Yes', 'No', 'No', 'No', 'No', 'No', 'No', 'No', 'Yes', 'No', 'No',\n",
       "       'Yes', 'No', 'Yes', 'No', 'Yes', 'No', 'Yes', 'No', 'No', 'No',\n",
       "       'No', 'Yes', 'No', 'No', 'No', 'No', 'No', 'No', 'No', 'No', 'Yes',\n",
       "       'No', 'No', 'No', 'No', 'No', 'No', 'No', 'No', 'No', 'Yes', 'No',\n",
       "       'No', 'No', 'No', 'No', 'No', 'Yes', 'No', 'No', 'Yes', 'No', 'No',\n",
       "       'Yes', 'Yes', 'Yes', 'Yes', 'Yes', 'No', 'Yes', 'No', 'No', 'No',\n",
       "       'No', 'No', 'No', 'No', 'No', 'No', 'No', 'No', 'No', 'No', 'No',\n",
       "       'No', 'No', 'No', 'Yes', 'Yes', 'No', 'No', 'No', 'No', 'Yes',\n",
       "       'No', 'No', 'Yes', 'No', 'Yes', 'No', 'No', 'No', 'No', 'No'],\n",
       "      dtype=object)"
      ]
     },
     "execution_count": 23,
     "metadata": {},
     "output_type": "execute_result"
    }
   ],
   "source": [
    "logistic.predict(X_val)"
   ]
  },
  {
   "cell_type": "code",
   "execution_count": 24,
   "metadata": {},
   "outputs": [
    {
     "data": {
      "text/plain": [
       "0.8202247191011236"
      ]
     },
     "execution_count": 24,
     "metadata": {},
     "output_type": "execute_result"
    }
   ],
   "source": [
    "logistic.score(X_val, y_val)"
   ]
  },
  {
   "cell_type": "code",
   "execution_count": 29,
   "metadata": {},
   "outputs": [
    {
     "name": "stdout",
     "output_type": "stream",
     "text": [
      "[[214  47]\n",
      " [  1   5]]\n"
     ]
    }
   ],
   "source": [
    "conf_mat = confusion_matrix(y_true=y_val, y_pred=logistic.predict(X_val))\n",
    "print(conf_mat)\n",
    "\n"
   ]
  },
  {
   "cell_type": "code",
   "execution_count": 12,
   "metadata": {},
   "outputs": [],
   "source": [
    "wr = df.loc[(df['Pos'] == 'WR')]\n",
    "wr.reset_index(drop=True, inplace=True)"
   ]
  },
  {
   "cell_type": "code",
   "execution_count": 13,
   "metadata": {},
   "outputs": [
    {
     "data": {
      "text/plain": [
       "No     2995\n",
       "Yes      77\n",
       "Name: Drafted, dtype: int64"
      ]
     },
     "execution_count": 13,
     "metadata": {},
     "output_type": "execute_result"
    }
   ],
   "source": [
    "wr['Drafted'].value_counts()"
   ]
  },
  {
   "cell_type": "code",
   "execution_count": 14,
   "metadata": {},
   "outputs": [],
   "source": [
    "wr_X = wr[['Yr', 'Ht', 'Wt', 'TD', '2XP', 'Points', 'Recv.']]\n",
    "wr_y = wr['Drafted']"
   ]
  },
  {
   "cell_type": "code",
   "execution_count": 15,
   "metadata": {},
   "outputs": [],
   "source": [
    "wrX = pd.get_dummies(wr_X)"
   ]
  },
  {
   "cell_type": "code",
   "execution_count": 16,
   "metadata": {},
   "outputs": [],
   "source": [
    "X = df[['Pos', 'Yr', 'Ht', 'Wt', 'Kickoffs', 'Punts', 'TD', 'FG', '1XP',\n",
    "       '2XP', 'Points', 'Rush Yards', 'Pass Yards', 'Recv.', 'Int.', 'Solo',\n",
    "       'Sacks', 'Att', 'Comp', 'Passing TD', 'Passing Int']]\n",
    "y = df['Drafted']"
   ]
  },
  {
   "cell_type": "code",
   "execution_count": 17,
   "metadata": {},
   "outputs": [],
   "source": [
    "wrX_train_val, wrX_test, wr_y_train_val, wr_y_test = train_test_split(wrX, wr_y, \n",
    "                                                            test_size=0.2, random_state=42)\n",
    "wrX_train, wrX_val, wr_y_train, wr_y_val = train_test_split(wrX_train_val, wr_y_train_val, \n",
    "                                                            test_size=0.2, random_state=42)\n"
   ]
  },
  {
   "cell_type": "code",
   "execution_count": 18,
   "metadata": {},
   "outputs": [
    {
     "data": {
      "text/plain": [
       "RandomForestClassifier(bootstrap=True, class_weight=None, criterion='gini',\n",
       "                       max_depth=None, max_features='auto', max_leaf_nodes=None,\n",
       "                       min_impurity_decrease=0.0, min_impurity_split=None,\n",
       "                       min_samples_leaf=1, min_samples_split=2,\n",
       "                       min_weight_fraction_leaf=0.0, n_estimators=100,\n",
       "                       n_jobs=None, oob_score=False, random_state=None,\n",
       "                       verbose=0, warm_start=False)"
      ]
     },
     "execution_count": 18,
     "metadata": {},
     "output_type": "execute_result"
    }
   ],
   "source": [
    "randomforest = RandomForestClassifier(n_estimators=100)\n",
    "randomforest.fit(wrX_train, wr_y_train)"
   ]
  },
  {
   "cell_type": "code",
   "execution_count": 22,
   "metadata": {},
   "outputs": [],
   "source": [
    "y_pred = randomforest.predict(wrX_val)"
   ]
  },
  {
   "cell_type": "code",
   "execution_count": 25,
   "metadata": {},
   "outputs": [
    {
     "data": {
      "image/png": "[encoded data removed]",
      "text/plain": [
       "<Figure size 720x504 with 2 Axes>"
      ]
     },
     "metadata": {
      "needs_background": "light"
     },
     "output_type": "display_data"
    }
   ],
   "source": [
    "conf_mat = confusion_matrix(y_true=wr_y_val, y_pred=y_pred)\n",
    "cm = print_confusion_matrix(conf_mat, ['No', 'Yes'])"
   ]
  },
  {
   "cell_type": "code",
   "execution_count": 26,
   "metadata": {},
   "outputs": [],
   "source": [
    "def print_confusion_matrix(confusion_matrix, class_names, figsize = (10,7), fontsize=18):\n",
    "    \"\"\"Prints a confusion matrix, as returned by sklearn.metrics.confusion_matrix, as a heatmap.\n",
    "    \n",
    "    Arguments\n",
    "    ---------\n",
    "    confusion_matrix: numpy.ndarray\n",
    "        The numpy.ndarray object returned from a call to sklearn.metrics.confusion_matrix. \n",
    "        Similarly constructed ndarrays can also be used.\n",
    "    class_names: list\n",
    "        An ordered list of class names, in the order they index the given confusion matrix.\n",
    "    figsize: tuple\n",
    "        A 2-long tuple, the first value determining the horizontal size of the ouputted figure,\n",
    "        the second determining the vertical size. Defaults to (10,7).\n",
    "    fontsize: int\n",
    "        Font size for axes labels. Defaults to 14.\n",
    "        \n",
    "    Returns\n",
    "    -------\n",
    "    matplotlib.figure.Figure\n",
    "        The resulting confusion matrix figure\n",
    "    \"\"\"\n",
    "    df_cm = pd.DataFrame(confusion_matrix, index=class_names, columns=class_names, )\n",
    "    fig = plt.figure(figsize=figsize)\n",
    "    try:\n",
    "        heatmap = sns.heatmap(df_cm, annot=True, fmt=\"d\")\n",
    "    except ValueError:\n",
    "        raise ValueError(\"Confusion matrix values must be integers.\")\n",
    "    heatmap.yaxis.set_ticklabels(heatmap.yaxis.get_ticklabels(), rotation=0, ha='right', fontsize=fontsize)\n",
    "    heatmap.xaxis.set_ticklabels(heatmap.xaxis.get_ticklabels(), rotation=45, ha='right', fontsize=fontsize)\n",
    "    plt.ylabel('True label')\n",
    "    plt.xlabel('Predicted label')\n",
    "    return fig"
   ]
  },
  {
   "cell_type": "code",
   "execution_count": null,
   "metadata": {},
   "outputs": [],
   "source": [
    "clf = XGBClassifier(max_depth=2,n_estimators=50).fit(wrX_train, wr_y_train)"
   ]
  }
 ],
 "metadata": {
  "kernelspec": {
   "display_name": "Python 3",
   "language": "python",
   "name": "python3"
  },
  "language_info": {
   "codemirror_mode": {
    "name": "ipython",
    "version": 3
   },
   "file_extension": ".py",
   "mimetype": "text/x-python",
   "name": "python",
   "nbconvert_exporter": "python",
   "pygments_lexer": "ipython3",
   "version": "3.7.3"
  }
 },
 "nbformat": 4,
 "nbformat_minor": 2
}
